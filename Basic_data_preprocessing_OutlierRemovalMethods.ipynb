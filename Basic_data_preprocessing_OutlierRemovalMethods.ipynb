{
 "cells": [
  {
   "cell_type": "code",
   "execution_count": 1,
   "id": "8f9397f2-8fea-472b-ab60-a11ceddf2aaa",
   "metadata": {},
   "outputs": [
    {
     "name": "stdout",
     "output_type": "stream",
     "text": [
      "      Name   Age   Salary Department\n",
      "0    Alice  25.0  50000.0         HR\n",
      "1      Bob  35.0  60000.0    Finance\n",
      "2  Charlie  45.0  75000.0         IT\n",
      "3    David  29.0      NaN         HR\n",
      "4      Eve   NaN  52000.0    Finance\n",
      "5    Frank  33.0  48000.0       None\n",
      "6    Grace  55.0  88000.0         IT\n",
      "7   Hannah  31.0  58000.0         HR\n",
      "8     None  27.0      NaN         IT\n",
      "9     Jake  30.0  62000.0    Finance\n"
     ]
    }
   ],
   "source": [
    "import warnings\n",
    "warnings.filterwarnings(\"ignore\")\n",
    "\n",
    "import pandas as pd\n",
    "\n",
    "# sample dataset\n",
    "data = {\n",
    "    \"Name\": [\"Alice\", \"Bob\", \"Charlie\", \"David\", \"Eve\", \"Frank\", \"Grace\", \"Hannah\", None, \"Jake\"],\n",
    "    \"Age\": [25, 35, 45, 29, None, 33, 55, 31, 27, 30],\n",
    "    \"Salary\": [50000, 60000, 75000, None, 52000, 48000, 88000, 58000, None, 62000],\n",
    "    \"Department\": [\"HR\", \"Finance\", \"IT\", \"HR\", \"Finance\", None, \"IT\", \"HR\", \"IT\", \"Finance\"]\n",
    "}\n",
    "\n",
    "# Converting to a DataFrame\n",
    "df = pd.DataFrame(data)\n",
    "print(df)"
   ]
  },
  {
   "cell_type": "code",
   "execution_count": 2,
   "id": "3ed2fcd3-3631-4091-9a98-7a4f3b16be93",
   "metadata": {},
   "outputs": [
    {
     "name": "stdout",
     "output_type": "stream",
     "text": [
      "Shape of the dataset:\n",
      "(10, 4)\n"
     ]
    }
   ],
   "source": [
    "print(\"Shape of the dataset:\")\n",
    "print(df.shape)"
   ]
  },
  {
   "cell_type": "code",
   "execution_count": 3,
   "id": "b1ce90e9-edf9-4eca-87aa-b4ea39501831",
   "metadata": {},
   "outputs": [
    {
     "name": "stdout",
     "output_type": "stream",
     "text": [
      "Dataset Info:\n",
      "<class 'pandas.core.frame.DataFrame'>\n",
      "RangeIndex: 10 entries, 0 to 9\n",
      "Data columns (total 4 columns):\n",
      " #   Column      Non-Null Count  Dtype  \n",
      "---  ------      --------------  -----  \n",
      " 0   Name        9 non-null      object \n",
      " 1   Age         9 non-null      float64\n",
      " 2   Salary      8 non-null      float64\n",
      " 3   Department  9 non-null      object \n",
      "dtypes: float64(2), object(2)\n",
      "memory usage: 452.0+ bytes\n",
      "None\n"
     ]
    }
   ],
   "source": [
    "print(\"Dataset Info:\")\n",
    "print(df.info())"
   ]
  },
  {
   "cell_type": "code",
   "execution_count": 4,
   "id": "8cb29c96-61d0-4528-9a71-c1b9a502d30e",
   "metadata": {},
   "outputs": [
    {
     "name": "stdout",
     "output_type": "stream",
     "text": [
      "Statistical Summary:\n",
      "             Age        Salary\n",
      "count   9.000000      8.000000\n",
      "mean   34.444444  61625.000000\n",
      "std     9.632122  13647.998283\n",
      "min    25.000000  48000.000000\n",
      "25%    29.000000  51500.000000\n",
      "50%    31.000000  59000.000000\n",
      "75%    35.000000  65250.000000\n",
      "max    55.000000  88000.000000\n"
     ]
    }
   ],
   "source": [
    "print(\"Statistical Summary:\")\n",
    "print(df.describe())"
   ]
  },
  {
   "cell_type": "code",
   "execution_count": 5,
   "id": "98b01cf8-a5d0-44ea-8f94-f5383a5754fa",
   "metadata": {},
   "outputs": [
    {
     "name": "stdout",
     "output_type": "stream",
     "text": [
      "Null values in each column:\n",
      "Name          1\n",
      "Age           1\n",
      "Salary        2\n",
      "Department    1\n",
      "dtype: int64\n"
     ]
    }
   ],
   "source": [
    "print(\"Null values in each column:\")\n",
    "print(df.isnull().sum())"
   ]
  },
  {
   "cell_type": "code",
   "execution_count": 6,
   "id": "5e1f5409-251a-4a5a-b072-e87b97ff57b7",
   "metadata": {},
   "outputs": [],
   "source": [
    "# Imputation is the process of handling missing values by replacing them with estimated values.\n",
    "# Imputation is a data preprocessing technique used to handle missing (null) values in a dataset by \n",
    "# replacing them with estimated or meaningful values instead of removing the rows or columns entirely. \n",
    "# This approach helps retain the data's structure and avoids losing potentially valuable information."
   ]
  },
  {
   "cell_type": "code",
   "execution_count": 7,
   "id": "7f542140-84f0-40f7-b0b9-1013a23feea6",
   "metadata": {},
   "outputs": [],
   "source": [
    "# Handling Null Values\n",
    "# numerical column\n",
    "df['Age'] = df['Age'].fillna(df['Age'].mean())\n",
    "df['Salary'] = df['Salary'].fillna(df['Salary'].mean())\n",
    "#you can use median also depedning on the data distribution"
   ]
  },
  {
   "cell_type": "code",
   "execution_count": 8,
   "id": "1d63aaf5-6501-4b3d-b09b-4227605d921e",
   "metadata": {},
   "outputs": [],
   "source": [
    "# categorical column\n",
    "df['Department'] = df['Department'].fillna(df['Department'].mode()[0])"
   ]
  },
  {
   "cell_type": "markdown",
   "id": "965fb8ad-b49f-45aa-8b19-4a95d3d2e3b1",
   "metadata": {},
   "source": [
    "## Finding and Handling Outliers\n",
    "Outliers are extreme values in a dataset that deviate significantly from the rest of the data. \n",
    "They can affect the analysis and model accuracy, so handling them is crucial. \n",
    "There are two common methods to handle outliers: IQR Method and Z-Score Method (Standard Score).\n",
    "\n",
    "## When to Use Which Method?\n",
    "Symmetrically Distributed Data (Normal Distribution): Use the Z-Score Method because it is based on the mean \n",
    "and standard deviation, which are appropriate for symmetric data.\n",
    "Skewed Data or Non-Normal Distribution: Use the IQR Method as \n",
    "it relies on the median and quartiles, which are more robust to skewness and extreme values."
   ]
  },
  {
   "cell_type": "code",
   "execution_count": 9,
   "id": "77a0a1e3-fb59-4b46-8b27-90cee3ff49f7",
   "metadata": {},
   "outputs": [
    {
     "name": "stdout",
     "output_type": "stream",
     "text": [
      "Outliers:\n",
      "      Name   Age   Salary Department\n",
      "2  Charlie  45.0  75000.0         IT\n",
      "6    Grace  55.0  88000.0         IT\n"
     ]
    }
   ],
   "source": [
    "# Detecting Outliers Using IQR\n",
    "Q1 = df['Salary'].quantile(0.25)\n",
    "Q3 = df['Salary'].quantile(0.75)\n",
    "IQR = Q3 - Q1\n",
    "\n",
    "lower_bound = Q1 - 1.5 * IQR\n",
    "upper_bound = Q3 + 1.5 * IQR\n",
    "\n",
    "outliers = df[(df['Salary'] < lower_bound) | (df['Salary'] > upper_bound)]\n",
    "print(\"Outliers:\")\n",
    "print(outliers)"
   ]
  },
  {
   "cell_type": "code",
   "execution_count": 10,
   "id": "513fe5fd-853a-4151-97a1-d87feeb3b276",
   "metadata": {},
   "outputs": [
    {
     "data": {
      "image/png": "[encoded data removed]",
      "text/plain": [
       "<Figure size 1000x600 with 1 Axes>"
      ]
     },
     "metadata": {},
     "output_type": "display_data"
    }
   ],
   "source": [
    "import seaborn as sns\n",
    "import matplotlib.pyplot as plt\n",
    "\n",
    "# Plotting the Box Plot for Age and Salary\n",
    "plt.figure(figsize=(10, 6))\n",
    "\n",
    "# Box plot for Age and Salary (excluding NaN values)\n",
    "sns.boxplot(data=df[['Age', 'Salary']], orient='h')\n",
    "\n",
    "# Adding title and labels\n",
    "plt.title('Box Plot for Age and Salary', fontsize=14)\n",
    "plt.xlabel('Values', fontsize=12)\n",
    "plt.ylabel('Features (Age, Salary)', fontsize=12)\n",
    "\n",
    "# Display the plot\n",
    "plt.show()"
   ]
  },
  {
   "cell_type": "code",
   "execution_count": 11,
   "id": "49102986-1a45-495e-9bff-455b24914734",
   "metadata": {},
   "outputs": [],
   "source": [
    "# Handle Outliers"
   ]
  },
  {
   "cell_type": "code",
   "execution_count": 12,
   "id": "9b232770-2d3c-438a-a575-b4108c492fda",
   "metadata": {},
   "outputs": [],
   "source": [
    "# Option 1: Remove rows with outliers:\n",
    "df = df[(df['Salary'] >= lower_bound) & (df['Salary'] <= upper_bound)]"
   ]
  },
  {
   "cell_type": "code",
   "execution_count": 13,
   "id": "030c41eb-8b2c-4930-b6a6-ac851e099d99",
   "metadata": {},
   "outputs": [
    {
     "data": {
      "image/png": "[encoded data removed]",
      "text/plain": [
       "<Figure size 1000x600 with 1 Axes>"
      ]
     },
     "metadata": {},
     "output_type": "display_data"
    }
   ],
   "source": [
    "import seaborn as sns\n",
    "import matplotlib.pyplot as plt\n",
    "\n",
    "# Plotting the Box Plot for Age and Salary\n",
    "plt.figure(figsize=(10, 6))\n",
    "\n",
    "# Box plot for Age and Salary (excluding NaN values)\n",
    "sns.boxplot(data=df[['Age', 'Salary']], orient='h')\n",
    "\n",
    "# Adding title and labels\n",
    "plt.title('Box Plot for Age and Salary', fontsize=14)\n",
    "plt.xlabel('Values', fontsize=12)\n",
    "plt.ylabel('Features (Age, Salary)', fontsize=12)\n",
    "\n",
    "# Display the plot\n",
    "plt.show()"
   ]
  },
  {
   "cell_type": "code",
   "execution_count": 14,
   "id": "d6f86e6c-26cf-4915-9bc5-21e1b08c5754",
   "metadata": {},
   "outputs": [],
   "source": [
    "#  # Z-score method for detecting outliers:\n",
    "# import numpy as np\n",
    "# # Calculate the Z-score for 'Salary' column\n",
    "# df['Z_score'] = (df['Salary'] - df['Salary'].mean()) / df['Salary'].std()\n",
    "\n",
    "# # Define threshold (typically 3 or -3)\n",
    "# threshold = 3\n",
    "\n",
    "# # Find outliers\n",
    "# outliers = df[(df['Z_score'] > threshold) | (df['Z_score'] < -threshold)]\n",
    "\n",
    "# print(\"Outliers:\")\n",
    "# print(outliers)"
   ]
  },
  {
   "cell_type": "code",
   "execution_count": 15,
   "id": "3225e448-5893-4051-ab96-197228435239",
   "metadata": {},
   "outputs": [],
   "source": [
    "# # Removing Outliers Using Z-Score\n",
    "# # Remove outliers\n",
    "# df_cleaned = df[(df['Z_score'] <= threshold) & (df['Z_score'] >= -threshold)]\n",
    "\n",
    "# # Drop the Z-score column as it's no longer needed\n",
    "# df_cleaned = df_cleaned.drop(columns=['Z_score'])\n",
    "\n",
    "# print(\"Data after removing outliers:\")\n",
    "# print(df_cleaned)\n"
   ]
  },
  {
   "cell_type": "code",
   "execution_count": 16,
   "id": "6ec61aef-9ce0-4655-bb0a-b9cac83e9fc4",
   "metadata": {},
   "outputs": [],
   "source": [
    "# import seaborn as sns\n",
    "# import matplotlib.pyplot as plt\n",
    "\n",
    "# # Plotting the Box Plot for Age and Salary\n",
    "# plt.figure(figsize=(10, 6))\n",
    "\n",
    "# # Box plot for Age and Salary (excluding NaN values)\n",
    "# sns.boxplot(data=df[['Age', 'Salary']], orient='h')\n",
    "\n",
    "# # Adding title and labels\n",
    "# plt.title('Box Plot for Age and Salary', fontsize=14)\n",
    "# plt.xlabel('Values', fontsize=12)\n",
    "# plt.ylabel('Features (Age, Salary)', fontsize=12)\n",
    "\n",
    "# # Display the plot\n",
    "# plt.show()"
   ]
  },
  {
   "cell_type": "code",
   "execution_count": 17,
   "id": "c79bcadc-de4a-4f56-8498-29327a00c75d",
   "metadata": {},
   "outputs": [],
   "source": [
    "# The Z-score is calculated using the formula:\n",
    "# 𝑍 = (𝑋 − mean)/ standard deviation\n",
    " \n",
    "# Any value with a Z-score > 3 or < -3 is considered an outlier.\n",
    "# Outliers are then removed to get the cleaned dataset."
   ]
  },
  {
   "cell_type": "markdown",
   "id": "e5f00fba-3f76-4b3b-92cc-5a049058e16c",
   "metadata": {},
   "source": [
    "Capping (or winsorization). Capping replaces extreme outlier values with a predefined threshold, such as a certain percentile (e.g., 1st and 99th percentiles)."
   ]
  },
  {
   "cell_type": "code",
   "execution_count": 18,
   "id": "5226e4e0-18fc-4723-bef0-38f42edda3ad",
   "metadata": {},
   "outputs": [],
   "source": [
    "# import pandas as pd\n",
    "\n",
    "# # Sample dataset\n",
    "# data = {\n",
    "#     \"Name\": [\"Alice\", \"Bob\", \"Charlie\", \"David\", \"Eve\", \"Frank\", \"Grace\", \"Hannah\", None, \"Jake\"],\n",
    "#     \"Age\": [25, 35, 45, 29, None, 33, 55, 31, 27, 30],\n",
    "#     \"Salary\": [50000, 60000, 75000, None, 52000, 48000, 88000, 58000, None, 62000],\n",
    "#     \"Department\": [\"HR\", \"Finance\", \"IT\", \"HR\", \"Finance\", None, \"IT\", \"HR\", \"IT\", \"Finance\"]\n",
    "# }\n",
    "\n",
    "# # Converting to DataFrame\n",
    "# df = pd.DataFrame(data)\n",
    "\n",
    "# # Handling missing values (replacing None with NaN)\n",
    "# df = df.apply(pd.to_numeric, errors='coerce')\n",
    "\n",
    "# # Function to cap outliers\n",
    "# def cap_outliers(df, column):\n",
    "#     # Calculate the lower and upper percentiles (1st and 99th)\n",
    "#     lower_bound = df[column].quantile(0.01)\n",
    "#     upper_bound = df[column].quantile(0.99)\n",
    "    \n",
    "#     # Capping the outliers\n",
    "#     df[column] = df[column].clip(lower=lower_bound, upper=upper_bound)\n",
    "    \n",
    "#     return df\n",
    "\n",
    "# # Capping outliers in 'Age' and 'Salary' columns\n",
    "# df = cap_outliers(df, 'Age')\n",
    "# df = cap_outliers(df, 'Salary')\n",
    "\n",
    "# # Display the DataFrame after capping outliers\n",
    "# print(df)"
   ]
  },
  {
   "cell_type": "code",
   "execution_count": 19,
   "id": "b0fe06a0-e221-4dce-a9a0-8724d9231c80",
   "metadata": {},
   "outputs": [],
   "source": [
    "# import seaborn as sns\n",
    "# import matplotlib.pyplot as plt\n",
    "\n",
    "# # Plotting the Box Plot for Age and Salary\n",
    "# plt.figure(figsize=(10, 6))\n",
    "\n",
    "# # Box plot for Age and Salary (excluding NaN values)\n",
    "# sns.boxplot(data=df[['Age', 'Salary']], orient='h')\n",
    "\n",
    "# # Adding title and labels\n",
    "# plt.title('Box Plot for Age and Salary', fontsize=14)\n",
    "# plt.xlabel('Values', fontsize=12)\n",
    "# plt.ylabel('Features (Age, Salary)', fontsize=12)\n",
    "\n",
    "# # Display the plot\n",
    "# plt.show()"
   ]
  },
  {
   "cell_type": "code",
   "execution_count": 20,
   "id": "485fe1e0-e324-49d1-9878-5b0061dce8b4",
   "metadata": {},
   "outputs": [
    {
     "name": "stdout",
     "output_type": "stream",
     "text": [
      "Cleaned Dataset:\n",
      "     Name        Age   Salary Department\n",
      "0   Alice  25.000000  50000.0         HR\n",
      "1     Bob  35.000000  60000.0    Finance\n",
      "3   David  29.000000  61625.0         HR\n",
      "4     Eve  34.444444  52000.0    Finance\n",
      "5   Frank  33.000000  48000.0    Finance\n",
      "7  Hannah  31.000000  58000.0         HR\n",
      "8    None  27.000000  61625.0         IT\n",
      "9    Jake  30.000000  62000.0    Finance\n"
     ]
    }
   ],
   "source": [
    "print(\"Cleaned Dataset:\")\n",
    "print(df)"
   ]
  },
  {
   "cell_type": "markdown",
   "id": "fa621f78-8fac-42d2-89c3-b744695c0e3b",
   "metadata": {},
   "source": [
    "-- The end --"
   ]
  }
 ],
 "metadata": {
  "kernelspec": {
   "display_name": "Python 3 (ipykernel)",
   "language": "python",
   "name": "python3"
  },
  "language_info": {
   "codemirror_mode": {
    "name": "ipython",
    "version": 3
   },
   "file_extension": ".py",
   "mimetype": "text/x-python",
   "name": "python",
   "nbconvert_exporter": "python",
   "pygments_lexer": "ipython3",
   "version": "3.12.1"
  }
 },
 "nbformat": 4,
 "nbformat_minor": 5
}
